{
 "cells": [
  {
   "cell_type": "code",
   "execution_count": 5,
   "id": "5e6ff5ee-3781-4b91-88b0-b0fe2e8619a7",
   "metadata": {},
   "outputs": [
    {
     "name": "stdout",
     "output_type": "stream",
     "text": [
      "Defaulting to user installation because normal site-packages is not writeable\n",
      "\u001b[33mWARNING: Ignoring invalid distribution -orch (/home/jupyter-cap25-lowvision/.local/lib/python3.9/site-packages)\u001b[0m\u001b[33m\n",
      "\u001b[0m\u001b[33mWARNING: Ignoring invalid distribution -orch (/home/jupyter-cap25-lowvision/.local/lib/python3.9/site-packages)\u001b[0m\u001b[33m\n",
      "\u001b[0mRequirement already satisfied: roboflow in /home/jupyter-cap25-lowvision/.local/lib/python3.9/site-packages (1.1.58)\n",
      "Requirement already satisfied: certifi in /home/jupyter-cap25-lowvision/.local/lib/python3.9/site-packages (from roboflow) (2022.6.15)\n",
      "Requirement already satisfied: idna==3.7 in /home/jupyter-cap25-lowvision/.local/lib/python3.9/site-packages (from roboflow) (3.7)\n",
      "Requirement already satisfied: cycler in /opt/tljh/user/lib/python3.9/site-packages (from roboflow) (0.11.0)\n",
      "Requirement already satisfied: kiwisolver>=1.3.1 in /home/jupyter-cap25-lowvision/.local/lib/python3.9/site-packages (from roboflow) (1.4.3)\n",
      "Requirement already satisfied: matplotlib in /home/jupyter-cap25-lowvision/.local/lib/python3.9/site-packages (from roboflow) (3.5.2)\n",
      "Requirement already satisfied: numpy>=1.18.5 in /home/jupyter-cap25-lowvision/.local/lib/python3.9/site-packages (from roboflow) (1.23.0)\n",
      "Requirement already satisfied: opencv-python-headless==4.10.0.84 in /home/jupyter-cap25-lowvision/.local/lib/python3.9/site-packages (from roboflow) (4.10.0.84)\n",
      "Requirement already satisfied: Pillow>=7.1.2 in /home/jupyter-cap25-lowvision/.local/lib/python3.9/site-packages (from roboflow) (11.1.0)\n",
      "Requirement already satisfied: pillow-heif>=0.18.0 in /home/jupyter-cap25-lowvision/.local/lib/python3.9/site-packages (from roboflow) (0.21.0)\n",
      "Requirement already satisfied: python-dateutil in /home/jupyter-cap25-lowvision/.local/lib/python3.9/site-packages (from roboflow) (2.8.2)\n",
      "Requirement already satisfied: python-dotenv in /home/jupyter-cap25-lowvision/.local/lib/python3.9/site-packages (from roboflow) (1.1.0)\n",
      "Requirement already satisfied: requests in /home/jupyter-cap25-lowvision/.local/lib/python3.9/site-packages (from roboflow) (2.28.1)\n",
      "Requirement already satisfied: six in /home/jupyter-cap25-lowvision/.local/lib/python3.9/site-packages (from roboflow) (1.16.0)\n",
      "Requirement already satisfied: urllib3>=1.26.6 in /home/jupyter-cap25-lowvision/.local/lib/python3.9/site-packages (from roboflow) (1.26.9)\n",
      "Requirement already satisfied: tqdm>=4.41.0 in /home/jupyter-cap25-lowvision/.local/lib/python3.9/site-packages (from roboflow) (4.64.0)\n",
      "Requirement already satisfied: PyYAML>=5.3.1 in /opt/tljh/user/lib/python3.9/site-packages (from roboflow) (6.0)\n",
      "Requirement already satisfied: requests-toolbelt in /home/jupyter-cap25-lowvision/.local/lib/python3.9/site-packages (from roboflow) (1.0.0)\n",
      "Requirement already satisfied: filetype in /home/jupyter-cap25-lowvision/.local/lib/python3.9/site-packages (from roboflow) (1.2.0)\n",
      "Requirement already satisfied: fonttools>=4.22.0 in /home/jupyter-cap25-lowvision/.local/lib/python3.9/site-packages (from matplotlib->roboflow) (4.34.2)\n",
      "Requirement already satisfied: packaging>=20.0 in /home/jupyter-cap25-lowvision/.local/lib/python3.9/site-packages (from matplotlib->roboflow) (21.3)\n",
      "Requirement already satisfied: pyparsing>=2.2.1 in /opt/tljh/user/lib/python3.9/site-packages (from matplotlib->roboflow) (3.0.9)\n",
      "Requirement already satisfied: charset-normalizer<3,>=2 in /home/jupyter-cap25-lowvision/.local/lib/python3.9/site-packages (from requests->roboflow) (2.1.0)\n",
      "\u001b[33mWARNING: Ignoring invalid distribution -orch (/home/jupyter-cap25-lowvision/.local/lib/python3.9/site-packages)\u001b[0m\u001b[33m\n",
      "\u001b[0m\u001b[33mWARNING: Ignoring invalid distribution -orch (/home/jupyter-cap25-lowvision/.local/lib/python3.9/site-packages)\u001b[0m\u001b[33m\n",
      "loading Roboflow workspace...\n",
      "loading Roboflow project...\n",
      "Exporting format yolov5pytorch in progress : 85.0%\n",
      "Version export complete for yolov5pytorch format\n"
     ]
    },
    {
     "name": "stderr",
     "output_type": "stream",
     "text": [
      "Downloading Dataset Version Zip in yolov5_kitchen to yolov5pytorch:: 100%|██████████| 2955/2955 [00:00<00:00, 12880.34it/s]"
     ]
    },
    {
     "name": "stdout",
     "output_type": "stream",
     "text": [
      "\n"
     ]
    },
    {
     "name": "stderr",
     "output_type": "stream",
     "text": [
      "\n",
      "Extracting Dataset Version Zip to yolov5_kitchen in yolov5pytorch:: 100%|██████████| 132/132 [00:00<00:00, 4184.98it/s]\n"
     ]
    }
   ],
   "source": [
    "!pip install roboflow\n",
    "\n",
    "from roboflow import Roboflow\n",
    "rf = Roboflow(api_key=\"gFsD10VHDpjbPKdbU38R\")\n",
    "project = rf.workspace(\"yolo-hdurx\").project(\"kitchen-i2lva\")\n",
    "version = project.version(2)\n",
    "dataset = project.version(1).download(\"yolov5\", location=\"yolov5_kitchen\")\n",
    "                "
   ]
  },
  {
   "cell_type": "code",
   "execution_count": 3,
   "id": "3be583d2-c6ef-450d-aa3f-c41365bc8f02",
   "metadata": {},
   "outputs": [
    {
     "name": "stdout",
     "output_type": "stream",
     "text": [
      "ls: cannot access 'yolov5': No such file or directory\n"
     ]
    }
   ],
   "source": [
    "!ls yolov5"
   ]
  },
  {
   "cell_type": "code",
   "execution_count": 4,
   "id": "1dcd82a3-60b0-4a8b-b34e-14f9e478c356",
   "metadata": {},
   "outputs": [
    {
     "name": "stdout",
     "output_type": "stream",
     "text": [
      "abctest.py  download_data.ipynb  models\t\t   static      val.py\n",
      "app.py\t    import.py\t\t Procfile\t   templates   yolov5s.pt\n",
      "data\t    instance\t\t __pycache__\t   testing.py\n",
      "detect.py   kitchen-2\t\t README.md\t   train.py\n",
      "doc.odt     LICENSE\t\t requirements.txt  utils\n"
     ]
    }
   ],
   "source": [
    "!ls"
   ]
  },
  {
   "cell_type": "code",
   "execution_count": null,
   "id": "895ded65-edf0-4d4b-a661-02bd2958cc2c",
   "metadata": {},
   "outputs": [],
   "source": []
  }
 ],
 "metadata": {
  "kernelspec": {
   "display_name": "Python 3 (ipykernel)",
   "language": "python",
   "name": "python3"
  },
  "language_info": {
   "codemirror_mode": {
    "name": "ipython",
    "version": 3
   },
   "file_extension": ".py",
   "mimetype": "text/x-python",
   "name": "python",
   "nbconvert_exporter": "python",
   "pygments_lexer": "ipython3",
   "version": "3.9.7"
  }
 },
 "nbformat": 4,
 "nbformat_minor": 5
}
